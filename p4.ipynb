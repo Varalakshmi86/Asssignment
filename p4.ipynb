{
 "cells": [
  {
   "cell_type": "code",
   "execution_count": 1,
   "id": "830ee403-c485-4543-be16-d8dd2483e503",
   "metadata": {},
   "outputs": [
    {
     "name": "stdout",
     "output_type": "stream",
     "text": [
      "       ID       City      Location                   PType     PPN  Nights  \\\n",
      "1  IND138   Bangalor    Indiranagar           Private Room  1800.0     NaN   \n",
      "4  IND141  Hyderabad  Jubilee Hills  Entire Home/Apartment  3800.0     3.0   \n",
      "\n",
      "   Beds  Baths  Reviews            Recent  \n",
      "1   1.0    1.0      2.0         15-Feb-23  \n",
      "4   3.0    3.0      5.0  2022-08-20 14:00  \n"
     ]
    }
   ],
   "source": [
    "import pandas as pd\n",
    "\n",
    "# Load the cleaned dataset\n",
    "df = pd.read_excel('cleaned_hotels.xlsx')\n",
    "\n",
    "# Ensure the required column exists\n",
    "if 'City' not in df.columns:\n",
    "    raise KeyError(\"Column 'City' not found in the dataset!\")\n",
    "\n",
    "if 'PPN' not in df.columns:\n",
    "    raise KeyError(\"Column 'PPN' (Price Per Night) not found in the dataset!\")\n",
    "\n",
    "# Convert 'PPN' to numeric (handle errors if any)\n",
    "df['PPN'] = pd.to_numeric(df['PPN'], errors='coerce')\n",
    "\n",
    "# Get the most expensive room in every city\n",
    "most_expensive_rooms = df.loc[df.groupby('City')['PPN'].idxmax().dropna()]\n",
    "\n",
    "# Save the result to an Excel file\n",
    "most_expensive_rooms.to_excel('most_expensive_rooms_per_city.xlsx', index=False)\n",
    "\n",
    "# Print the result\n",
    "print(most_expensive_rooms)\n"
   ]
  },
  {
   "cell_type": "code",
   "execution_count": null,
   "id": "ba459fdb-135e-479f-b6a8-94f3accaf7fb",
   "metadata": {},
   "outputs": [],
   "source": []
  }
 ],
 "metadata": {
  "kernelspec": {
   "display_name": "Python 3 (ipykernel)",
   "language": "python",
   "name": "python3"
  },
  "language_info": {
   "codemirror_mode": {
    "name": "ipython",
    "version": 3
   },
   "file_extension": ".py",
   "mimetype": "text/x-python",
   "name": "python",
   "nbconvert_exporter": "python",
   "pygments_lexer": "ipython3",
   "version": "3.10.12"
  }
 },
 "nbformat": 4,
 "nbformat_minor": 5
}
