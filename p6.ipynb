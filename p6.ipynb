{
 "cells": [
  {
   "cell_type": "code",
   "execution_count": 1,
   "id": "2fed4bf8-0e4b-41ba-bb03-891a58073259",
   "metadata": {},
   "outputs": [
    {
     "name": "stdout",
     "output_type": "stream",
     "text": [
      "Location \n",
      "Indiranagar                1\n",
      "Hauz Khas                  1\n",
      "Teynampet                  1\n",
      "Jubilee Hills              1\n",
      "Park Street                1\n",
      "Colaba                     1\n",
      "Koramangala                1\n",
      "Anna Nagar                 1\n",
      "Gachibowli                 1\n",
      "Andheri                    1\n",
      "Dwarka                     1\n",
      "Egmore                     1\n",
      "Shivaji Nagar              1\n",
      "Camac Street               1\n",
      "Electronic City            1\n",
      "Nariman Point              1\n",
      "Secunderabad               1\n",
      "Thiruvanmiyur              1\n",
      "Worli                      1\n",
      "Aerocity                   1\n",
      "HSR Layout                 1\n",
      "Kondapur                   1\n",
      "Velachery                  1\n",
      "Koregaon Park              1\n",
      "Salt Lake                  1\n",
      "BKC                        1\n",
      "Saket                      1\n",
      "MG Road                    1\n",
      "Guindy                     1\n",
      "Hadapsar                   1\n",
      "New Town                   1\n",
      "Powai                      1\n",
      "Rohini                     1\n",
      "Jay Nagar                  1\n",
      "Manikonda                  1\n",
      "Tambaram                   1\n",
      "Wagholi                    1\n",
      "Baranagar                  1\n",
      "Ghatkopar                  1\n",
      "Dilshad Garden             1\n",
      "Electronic City Phase 2    1\n",
      "Kukatpally                 1\n",
      "Adyar                      1\n",
      "Bavdhan                    1\n",
      "Lake Town                  1\n",
      "Santacruz                  1\n",
      "Pitampura                  1\n",
      "Marathahalli               1\n",
      "Name: count, dtype: int64\n"
     ]
    }
   ],
   "source": [
    "import pandas as pd\n",
    "\n",
    "# Load the cleaned dataset\n",
    "df = pd.read_excel('cleaned_hotels.xlsx')\n",
    "\n",
    "# Ensure the correct column name (your dataset has 'Location ', notice the space)\n",
    "if 'Location ' not in df.columns:\n",
    "    raise KeyError(\"Missing required column: 'Location '\")\n",
    "\n",
    "# Count the number of hotels in each locality\n",
    "hotel_counts = df['Location '].value_counts()\n",
    "\n",
    "# Print the result\n",
    "print(hotel_counts)\n"
   ]
  },
  {
   "cell_type": "code",
   "execution_count": null,
   "id": "8fc1abc6-fa03-4813-b1bb-e6232125c851",
   "metadata": {},
   "outputs": [],
   "source": []
  }
 ],
 "metadata": {
  "kernelspec": {
   "display_name": "Python 3 (ipykernel)",
   "language": "python",
   "name": "python3"
  },
  "language_info": {
   "codemirror_mode": {
    "name": "ipython",
    "version": 3
   },
   "file_extension": ".py",
   "mimetype": "text/x-python",
   "name": "python",
   "nbconvert_exporter": "python",
   "pygments_lexer": "ipython3",
   "version": "3.10.12"
  }
 },
 "nbformat": 4,
 "nbformat_minor": 5
}
